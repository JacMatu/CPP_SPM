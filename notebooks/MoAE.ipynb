{
 "cells": [
  {
   "cell_type": "markdown",
   "source": [
    "# CPP_SPM 2.0"
   ],
   "metadata": {}
  },
  {
   "cell_type": "code",
   "execution_count": 1,
   "source": [
    "% Add SPM to the path. In case you are running this locally\n",
    "% In a matlab prompt, you can type this to find the answer --> spm('dir')\n",
    "addpath('/home/remi/matlab/SPM/spm12');"
   ],
   "outputs": [],
   "metadata": {}
  },
  {
   "cell_type": "code",
   "execution_count": 3,
   "source": [
    "run ../initCppSpm.m;"
   ],
   "outputs": [
    {
     "output_type": "stream",
     "name": "stdout",
     "text": [
      "warning: function /home/remi/github/CPP_SPM/lib/spmup/external/cubehelix.m shadows a core library function\n",
      "Checking dependencies\n",
      " Using SPM12 7487\n",
      "Defaults settings have been modified by file(s):\n",
      "  /home/remi/github/CPP_SPM/src/defaults/spm_my_defaults.m\n",
      "Modified fields: ui mat stats realign \n",
      " Nifti tools detected\n",
      " We got all we need. Let's get to work.\n",
      "___________________________________________________________________________\n",
      "___________________________________________________________________________\n",
      "                                                   \n",
      "                 __  ____  ____     _      _    _  \n",
      "                / _)(  _ \\(  _ \\   | |    / \\  | ) \n",
      "               ( (_  )___/ )___/   | |_  / _ \\ | \\ \n",
      "                \\__)(__)  (__)     |___||_/ \\_||__)\n",
      "                                                   \n",
      "Thank you for using CPP SPM - version v1.0.0\n",
      ". \n",
      "\n",
      "Current list of contributors includes\n",
      " Mohamed Rezk\n",
      " Remi Gau\n",
      " Olivier Collignon\n",
      " Ane Gurtubay\n",
      " Marco Barilari\n",
      " Michele MacLean\n",
      " Federica Falagiarda \n",
      " Ceren Battal\n",
      "\b\n",
      "\n",
      "Please cite using the following DOI: \n",
      " https://doi.org/10.5281/zenodo.3554331.\n",
      "\n",
      "For bug report & suggestions see our github repo: \n",
      " https://github.com/cpp-lln-lab/CPP_SPM\n",
      "\n",
      "___________________________________________________________________________\n",
      "___________________________________________________________________________\n",
      "\n",
      "\n",
      "warning: function /home/remi/github/CPP_SPM/lib/CPP_ROI/lib/marsbar-0.44/contents.m shadows a core library function\n",
      "MarsBaR analysis functions prepended to path\n",
      "Loaded MarsBaR defaults from base defaults\n"
     ]
    }
   ],
   "metadata": {}
  },
  {
   "cell_type": "code",
   "execution_count": 4,
   "source": [
    "# initialize options\n",
    "opt = [];\n",
    "\n",
    "demo_dir = fullfile(pwd, '..', 'demos', 'MoAE');\n",
    "addpath(demo_dir)\n",
    "\n",
    "% task to analyze\n",
    "opt.taskName = 'auditory';\n",
    "opt.verbosity = 1;\n",
    "\n",
    "% The directory where the data are located\n",
    "opt.dir.raw = fullfile(demo_dir, 'inputs', 'raw');\n",
    "opt.dir.derivatives = fullfile(demo_dir, 'outputs', 'derivatives');\n",
    "\n",
    "%% DO NOT TOUCH\n",
    "opt = checkOptions(opt);"
   ],
   "outputs": [],
   "metadata": {}
  },
  {
   "cell_type": "markdown",
   "source": [
    "## New things"
   ],
   "metadata": {}
  },
  {
   "cell_type": "markdown",
   "source": [
    "### opt.dir\n",
    "\n",
    "Where each type of data is located can now be declared all within the same `opt.dir` field."
   ],
   "metadata": {}
  },
  {
   "cell_type": "code",
   "execution_count": 5,
   "source": [
    "opt.dir"
   ],
   "outputs": [
    {
     "output_type": "stream",
     "name": "stdout",
     "text": [
      "ans =\n",
      "\n",
      "  scalar structure containing the fields:\n",
      "\n",
      "    derivatives = /home/remi/github/CPP_SPM/demos/MoAE/outputs/derivatives\n",
      "    input = /home/remi/github/CPP_SPM/demos/MoAE/inputs/raw\n",
      "    jobs = /home/remi/github/CPP_SPM/demos/MoAE/outputs/derivatives/cpp_spm-preproc/jobs/auditory\n",
      "    output = /home/remi/github/CPP_SPM/demos/MoAE/outputs/derivatives/cpp_spm-preproc\n",
      "    preproc = /home/remi/github/CPP_SPM/demos/MoAE/outputs/derivatives/cpp_spm-preproc\n",
      "    raw = /home/remi/github/CPP_SPM/demos/MoAE/inputs/raw\n",
      "    stats = \n",
      "\n"
     ]
    }
   ],
   "metadata": {}
  },
  {
   "cell_type": "code",
   "execution_count": 6,
   "source": [
    "opt.pipeline"
   ],
   "outputs": [
    {
     "output_type": "stream",
     "name": "stdout",
     "text": [
      "ans =\n",
      "\n",
      "  scalar structure containing the fields:\n",
      "\n",
      "    type = preproc\n",
      "    name = cpp_spm\n",
      "\n"
     ]
    }
   ],
   "metadata": {}
  },
  {
   "cell_type": "markdown",
   "source": [
    "### opt.dryRun\n",
    "\n",
    "Possibility to do a \"dry run\": prepare your workflows but don't run them with SPM.\n",
    "\n",
    "Useful to see if there is any bug."
   ],
   "metadata": {}
  },
  {
   "cell_type": "code",
   "execution_count": 9,
   "source": [
    "opt.dryRun"
   ],
   "outputs": [
    {
     "output_type": "stream",
     "name": "stdout",
     "text": [
      "ans = 0\n"
     ]
    }
   ],
   "metadata": {}
  },
  {
   "cell_type": "markdown",
   "source": [
    "### opt.segment\n",
    "In several places, workflows will be smarter and won't rerun the segmentation of the anatomical image if it has already been segemented.\n",
    "\n",
    "The segmentation can still be forced by setting the options appropriately."
   ],
   "metadata": {}
  },
  {
   "cell_type": "code",
   "execution_count": 8,
   "source": [
    "opt.segment"
   ],
   "outputs": [
    {
     "output_type": "stream",
     "name": "stdout",
     "text": [
      "ans =\n",
      "\n",
      "  scalar structure containing the fields:\n",
      "\n",
      "    force = 0\n",
      "\n"
     ]
    }
   ],
   "metadata": {}
  },
  {
   "cell_type": "markdown",
   "source": [
    "All Quality analysis options are now centralized in one place."
   ],
   "metadata": {}
  },
  {
   "cell_type": "code",
   "execution_count": 11,
   "source": [
    "opt.QA"
   ],
   "outputs": [
    {
     "output_type": "stream",
     "name": "stdout",
     "text": [
      "ans =\n",
      "\n",
      "  scalar structure containing the fields:\n",
      "\n",
      "    glm =\n",
      "\n",
      "      scalar structure containing the fields:\n",
      "\n",
      "        do = 1\n",
      "\n",
      "    func =\n",
      "\n",
      "      scalar structure containing the fields:\n",
      "\n",
      "        carpetPlot = 1\n",
      "        Motion = on\n",
      "        FD = on\n",
      "        Voltera = on\n",
      "        Globals = on\n",
      "        Movie = on\n",
      "        Basics = on\n",
      "\n",
      "\n"
     ]
    }
   ],
   "metadata": {}
  },
  {
   "cell_type": "code",
   "execution_count": 13,
   "source": [
    "download_data = true;\n",
    "download_moae_ds(download_data);"
   ],
   "outputs": [
    {
     "output_type": "stream",
     "name": "stdout",
     "text": [
      "Downloading dataset...: Done\n",
      "\n",
      "Unzipping dataset...: Done\n",
      "\n"
     ]
    }
   ],
   "metadata": {}
  },
  {
   "cell_type": "code",
   "execution_count": null,
   "source": [
    "opt.pipeline.type = 'preproc';\n",
    "\n",
    "bidsCopyInputFolder(opt);\n",
    "\n",
    "bidsSegmentSkullStrip(opt);\n",
    "\n",
    "bidsSpatialPrepro(opt);"
   ],
   "outputs": [],
   "metadata": {}
  }
 ],
 "metadata": {
  "kernelspec": {
   "display_name": "Octave",
   "language": "octave",
   "name": "octave"
  },
  "language_info": {
   "file_extension": ".m",
   "help_links": [
    {
     "text": "GNU Octave",
     "url": "https://www.gnu.org/software/octave/support.html"
    },
    {
     "text": "Octave Kernel",
     "url": "https://github.com/Calysto/octave_kernel"
    },
    {
     "text": "MetaKernel Magics",
     "url": "https://metakernel.readthedocs.io/en/latest/source/README.html"
    }
   ],
   "mimetype": "text/x-octave",
   "name": "octave",
   "version": "4.2.2"
  }
 },
 "nbformat": 4,
 "nbformat_minor": 5
}
