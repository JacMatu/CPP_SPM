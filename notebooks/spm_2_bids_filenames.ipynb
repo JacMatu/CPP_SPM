{
 "cells": [
  {
   "cell_type": "code",
   "execution_count": null,
   "id": "f52a7ac2-1c01-4ab3-a13a-c17980f89444",
   "metadata": {
    "tags": []
   },
   "outputs": [],
   "source": [
    "% addpath('/home/remi/matlab/SPM/spm12');\n",
    "run ../initCppSpm.m;"
   ]
  },
  {
   "cell_type": "markdown",
   "id": "346833f0-d849-4bf8-a10c-9217e237130a",
   "metadata": {},
   "source": [
    "# BIDS filenames\n",
    "\n",
    "Ideally we would like to have the same pipeline for statistical analysis whether our data was preprocessed with SPM or with fmriprep.\n",
    "\n",
    "This is possible under the condition that the input files for the statistical analysis are BIDS compliant: meaning that they follow the typical pattern of BIDS files:\n",
    "\n",
    "- pseudo \"regular expression\" : `(entity-label)+_suffix.extension`\n",
    "- `entity`, `label`, `suffix`, `extension` are alphanumeric only (no special character): `([a-zA-Z0-9])+`\n",
    "  - suffixes can be: `T1w` or `bold` but not `T1w_skullstripped` (no underscore allowed): \n",
    "- entity and label are separated by a dash: `([a-zA-Z0-9])+-([a-zA-Z0-9])+`\n",
    "  - you can have: `sub-01` but not `sub-01-blind`\n",
    "- entity-label pairs are separated by an underscore `((([a-zA-Z0-9])+-([a-zA-Z0-9])+)_)+`\n",
    "- prefixes are not a thing in official BIDS names\n",
    "\n",
    "BIDS has a number of officially recognised entities: `sub`, `ses`, `run`, `task`... that must come in a specific order for each data type.\n",
    "\n",
    "BIDS derivatives adds a few more entities that can be used to name and describe preprocessed data."
   ]
  },
  {
   "cell_type": "markdown",
   "id": "b3ed09c2-121a-4e49-8907-240d4285d252",
   "metadata": {},
   "source": [
    "___\n",
    "The toolbox BIDS Matlab has some function to help you create bids valid names."
   ]
  },
  {
   "cell_type": "code",
   "execution_count": null,
   "id": "5a2dee18-eab7-433f-a9b3-fc2defeb678a",
   "metadata": {},
   "outputs": [],
   "source": [
    "file_spec = struct(...\n",
    "    'entities', struct('run', '01', ...\n",
    "                       'sub', '01', ...\n",
    "                       'task', 'visMotionLocalizer'), ...\n",
    "    'suffix', 'bold', ...\n",
    "    'ext', '.nii');\n",
    "    \n",
    "bids.create_filename(file_spec)"
   ]
  },
  {
   "cell_type": "markdown",
   "id": "fc06a618-51a7-4cc6-a624-7ef12acb41fb",
   "metadata": {},
   "source": [
    "If not enough information is provided, BIDS matlab should hopefully help you figure out what is missing."
   ]
  },
  {
   "cell_type": "code",
   "execution_count": null,
   "id": "16516537-3a6c-4f77-b8ce-ec6f0dcf7829",
   "metadata": {},
   "outputs": [],
   "source": [
    "file_spec = struct(...\n",
    "    'entities', struct('run', '01', ...\n",
    "                       'sub', '01', ...\n",
    "                       'task', 'visMotionLocalizer'), ...\n",
    "    'suffix', 'events', ...\n",
    "    'ext', '.tsv');\n",
    "    \n",
    "bids.create_filename(file_spec)"
   ]
  },
  {
   "cell_type": "code",
   "execution_count": null,
   "id": "1daeaaa7-cad5-4145-ab36-6d04a15fd36b",
   "metadata": {},
   "outputs": [],
   "source": [
    "file_spec.modality = 'func';\n",
    "bids.create_filename(file_spec)"
   ]
  },
  {
   "cell_type": "markdown",
   "id": "9ef5299c-c825-40ff-9586-d2f0b026a387",
   "metadata": {},
   "source": [
    "Entities must have a specific order to be BIDS valid. You can ignore those rules by not using the bids schema."
   ]
  },
  {
   "cell_type": "code",
   "execution_count": null,
   "id": "8c6df003-5b59-43f6-ac96-e9a72457e8d3",
   "metadata": {},
   "outputs": [],
   "source": [
    "file_spec = struct(...\n",
    "    'entities', struct('run', '01', ...\n",
    "                       'sub', '01', ...\n",
    "                       'task', 'visMotionLocalizer'), ...\n",
    "    'suffix', 'bold', ...\n",
    "    'ext', '.nii', ...\n",
    "    'use_schema', false);\n",
    "    \n",
    "bids.create_filename(file_spec)"
   ]
  },
  {
   "cell_type": "markdown",
   "id": "6f54c814-f226-4835-8450-1c7b69889068",
   "metadata": {},
   "source": [
    "BIDS matlab can provide some help to parse and \"validate\" certain file names."
   ]
  },
  {
   "cell_type": "code",
   "execution_count": null,
   "id": "85b14da1-169a-4d2a-8fbc-e3948c02ade4",
   "metadata": {},
   "outputs": [],
   "source": [
    "input_file = 'sub-01_task-visMotionLocalizer_run-01_bold.nii';\n",
    "bids_file = bids.internal.parse_filename(input_file)"
   ]
  },
  {
   "cell_type": "code",
   "execution_count": null,
   "id": "ddfcae9f-8362-4ded-a97e-5d18c40f0e7a",
   "metadata": {},
   "outputs": [],
   "source": [
    "fields = {};\n",
    "tolerant = true;\n",
    "verbose = true;\n",
    "\n",
    "input_file = 'sub-01_T1w_trim.nii';\n",
    "bids.internal.parse_filename(input_file, fields, tolerant, verbose)"
   ]
  },
  {
   "cell_type": "markdown",
   "id": "e6fc4f6b-0b72-473f-ae57-d22e14ec9815",
   "metadata": {},
   "source": [
    "**NOTE:**\n",
    "\n",
    "Both `bids.internal.parse_filename` and `bids.create_filename` are likely to get refactored / renamed in future versions of BIDS matlab so use them sparingly in your code."
   ]
  },
  {
   "cell_type": "markdown",
   "id": "083434c1-6072-4772-a57b-9c300aa6e8fd",
   "metadata": {
    "tags": []
   },
   "source": [
    "## Typical SPM filenames\n",
    "\n",
    "SPM typicall adds prefixes to filenames and concatenates them.\n",
    "\n",
    "- `r` for realigned or resliced\n",
    "- `w` for warped (often means normalized in MNI space)\n",
    "- `a` for slice time corrected images\n",
    "- `u` for unwarped\n",
    "- `s` for smoothed\n",
    "- `c1` for grey matter tissue probability maps\n",
    "- ...\n"
   ]
  },
  {
   "cell_type": "code",
   "execution_count": null,
   "id": "4577649c-5ad6-4df2-a4aa-1792239d90c3",
   "metadata": {},
   "outputs": [],
   "source": [
    "file_spec = struct(...\n",
    "    'entities', struct('sub', '01'), ...\n",
    "    'suffix', 'T1w', ...\n",
    "    'ext', '.nii', ...\n",
    "    'prefix', 'c1'); % typical gray matter probabilistic segmentation\n",
    "    \n",
    "bids.create_filename(file_spec)\n",
    "\n",
    "file_spec = struct(...\n",
    "    'entities', struct(...\n",
    "                       'run', '01', ...\n",
    "                       'sub', '01', ...\n",
    "                       'task', 'visMotionLocalizer'), ...\n",
    "    'suffix', 'bold', ...\n",
    "    'ext', '.nii', ...\n",
    "    'prefix', 'ua'); % typical preprocessed data in native space\n",
    "    \n",
    "bids.create_filename(file_spec)\n",
    "\n",
    "file_spec = struct(...\n",
    "    'entities', struct(...\n",
    "                       'run', '01', ...\n",
    "                       'sub', '01', ...\n",
    "                       'task', 'visMotionLocalizer'), ...\n",
    "    'suffix', 'bold', ...\n",
    "    'ext', '.nii', ...\n",
    "    'prefix', 'swua'); % typical smoothed preprocessed data in MNI space\n",
    "    \n",
    "bids.create_filename(file_spec)"
   ]
  },
  {
   "cell_type": "markdown",
   "id": "5cb2cadf-e01a-43d9-bf5c-c9c0854f06ef",
   "metadata": {},
   "source": [
    "## BIDS derivatives filenames\n",
    "But those SPM files are not BIDS valid because official valid BIDS files don't have prefixes.\n",
    "\n",
    "So SPM output must be renamed to be able to create BIDS valid output datasets."
   ]
  },
  {
   "cell_type": "code",
   "execution_count": null,
   "id": "db2ce4bc-f81b-48cb-8381-59381810a791",
   "metadata": {},
   "outputs": [],
   "source": [
    "file_spec = struct(...\n",
    "    'entities', struct(...\n",
    "                       'sub', '01', ...\n",
    "                       'run', '01', ...\n",
    "                       'task', 'visMotionLocalizer', ...\n",
    "                       'space', 'MNI', ... % can specify if this image is in MNI space or individual space\n",
    "                       'desc', 'preproc'), ... % the description entity can give more info about what is this file about: \"preproc\" --> \"preprocessed\"\n",
    "    'suffix', 'bold', ...\n",
    "    'ext', '.nii');\n",
    "    \n",
    "bids.create_filename(file_spec)"
   ]
  },
  {
   "cell_type": "markdown",
   "id": "25109210-12f3-44b3-8dc4-a849f1508770",
   "metadata": {},
   "source": [
    "It can be a pain to create the right map between a specific SPM type of ouput and \"the right\" BIDS equivalent.\n",
    "\n",
    "So easier to use [the CPP `spm_2_bids` library](https://github.com/cpp-lln-lab/spm_2_bids) which will also try to use the \"proper\" MNI space name (`IXI594Sapce` is the one used by most of SPM)."
   ]
  },
  {
   "cell_type": "code",
   "execution_count": null,
   "id": "6e0d837c-c58c-4413-ace6-b5f87ffa6043",
   "metadata": {},
   "outputs": [],
   "source": [
    "input_name = 'wc1sub-01_T1w.nii';\n",
    "output_name = spm_2_bids(input_name)\n",
    "\n",
    "input_name = 'uasub-01_task-visMotionLocalizer_run-01_bold.nii';\n",
    "output_name = spm_2_bids(input_name)\n",
    "\n",
    "input_name = 'wuasub-01_task-visMotionLocalizer_run-01_bold.nii';\n",
    "output_name = spm_2_bids(input_name)"
   ]
  },
  {
   "cell_type": "markdown",
   "id": "e388deb8-4de7-4947-a01e-9f493806da56",
   "metadata": {},
   "source": [
    "spm_2_bids contains a certain list of default mapping to use for renaming but you can also add some extra or modify the defaults.\n",
    "\n",
    "CPP_SPM comes with its own preset `spm_2_bids` renaming map."
   ]
  },
  {
   "cell_type": "code",
   "execution_count": null,
   "id": "8c5449ee-93eb-4c8f-847b-d3b16ff9c531",
   "metadata": {},
   "outputs": [],
   "source": [
    "opt = checkOptions(struct());\n",
    "opt = set_spm_2_bids_defaults(opt);\n",
    "\n",
    "input_name = 'wc1sub-01_T1w.nii';\n",
    "output_name = spm_2_bids(input_name, opt.spm_2_bids)\n",
    "\n",
    "input_name = 'uasub-01_task-visMotionLocalizer_run-01_bold.nii';\n",
    "output_name = spm_2_bids(input_name, opt.spm_2_bids)\n",
    "\n",
    "input_name = 'wuasub-01_task-visMotionLocalizer_run-01_bold.nii';\n",
    "output_name = spm_2_bids(input_name, opt.spm_2_bids)\n",
    "\n",
    "opt.fwhm.func = 6;\n",
    "input_name = 'swuasub-01_task-visMotionLocalizer_run-01_bold.nii';\n",
    "output_name = spm_2_bids(input_name, opt.spm_2_bids)"
   ]
  },
  {
   "cell_type": "markdown",
   "id": "774f52e2-ee7f-47f2-94ed-a0e5bcff83ed",
   "metadata": {},
   "source": [
    "### `bidsRename`\n",
    "\n",
    "The `bidsRename` workflow uses this to rename all \"SPM files\" at the end of each step.\n"
   ]
  },
  {
   "cell_type": "code",
   "execution_count": null,
   "id": "d7982633-e6dd-489e-afd1-1e704ef753cd",
   "metadata": {},
   "outputs": [],
   "source": [
    "demo_dir = fullfile(pwd, '..', 'demos', 'MoAE');\n",
    "\n",
    "opt.taskName = 'auditory';\n",
    "\n",
    "opt.dir.raw = fullfile(demo_dir, 'inputs', 'raw');\n",
    "opt.dir.derivatives = fullfile(demo_dir, 'outputs', 'derivatives');\n",
    "\n",
    "opt = checkOptions(opt);\n",
    "\n",
    "bidsRename(opt);"
   ]
  },
  {
   "cell_type": "markdown",
   "id": "bc69f84a-f850-4427-ab77-841d7ceed900",
   "metadata": {},
   "source": [
    "Example of the end of spatial preprocessing\n",
    "\n",
    "```\n",
    "  if ~opt.realign.useUnwarp\n",
    "    opt.spm_2_bids = opt.spm_2_bids.add_mapping('prefix', opt.spm_2_bids.realign, ...\n",
    "                                                'name_spec', opt.spm_2_bids.cfg.preproc);\n",
    "\n",
    "    opt.spm_2_bids = opt.spm_2_bids.add_mapping('prefix', [opt.spm_2_bids.realign 'mean'], ...\n",
    "                                                'name_spec', opt.spm_2_bids.cfg.preproc);\n",
    "    opt.spm_2_bids = opt.spm_2_bids.flatten_mapping();\n",
    "  end\n",
    "\n",
    "  bidsRename(opt);\n",
    "```  "
   ]
  }
 ],
 "metadata": {
  "kernelspec": {
   "display_name": "Octave",
   "language": "octave",
   "name": "octave"
  },
  "language_info": {
   "file_extension": ".m",
   "help_links": [
    {
     "text": "GNU Octave",
     "url": "https://www.gnu.org/software/octave/support.html"
    },
    {
     "text": "Octave Kernel",
     "url": "https://github.com/Calysto/octave_kernel"
    },
    {
     "text": "MetaKernel Magics",
     "url": "https://metakernel.readthedocs.io/en/latest/source/README.html"
    }
   ],
   "mimetype": "text/x-octave",
   "name": "octave",
   "version": "4.2.2"
  }
 },
 "nbformat": 4,
 "nbformat_minor": 5
}
