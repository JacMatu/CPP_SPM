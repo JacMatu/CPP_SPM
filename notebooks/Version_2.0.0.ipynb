{
 "cells": [
  {
   "cell_type": "markdown",
   "id": "13de9b92",
   "metadata": {},
   "source": [
    "# CPP_SPM 2.0.0"
   ]
  },
  {
   "cell_type": "code",
   "execution_count": null,
   "id": "e0e9b1e0",
   "metadata": {},
   "outputs": [],
   "source": [
    "% addpath('/home/remi/matlab/SPM/spm12');\n",
    "run ../initCppSpm.m;"
   ]
  },
  {
   "cell_type": "markdown",
   "id": "49919603",
   "metadata": {},
   "source": [
    "## New things"
   ]
  },
  {
   "cell_type": "markdown",
   "id": "9eae1cfa",
   "metadata": {},
   "source": [
    "### `opt.dir`: setting where your input data is and where your ouput data will go\n",
    "\n",
    "Where each type of data is located can now be declared all within the same `opt.dir` field."
   ]
  },
  {
   "cell_type": "code",
   "execution_count": null,
   "id": "2e0561c1",
   "metadata": {},
   "outputs": [],
   "source": [
    "demo_dir = fullfile(pwd, '..', 'demos', 'MoAE');\n",
    "\n",
    "opt.dir.raw = fullfile(demo_dir, 'inputs', 'raw');\n",
    "opt.dir.derivatives = fullfile(demo_dir, 'outputs', 'derivatives');\n",
    "\n",
    "opt = checkOptions(opt);\n",
    "\n",
    "opt.dir"
   ]
  },
  {
   "cell_type": "markdown",
   "id": "40dc8506-728f-4c63-ade1-097bc9695ed6",
   "metadata": {},
   "source": [
    "### `opt.pipeline`: setting which type of analysis you are runnning"
   ]
  },
  {
   "cell_type": "code",
   "execution_count": null,
   "id": "dbfec5ab",
   "metadata": {},
   "outputs": [],
   "source": [
    "opt.pipeline"
   ]
  },
  {
   "cell_type": "code",
   "execution_count": null,
   "id": "a5571b9f-d187-4c1b-83d3-49af5303add9",
   "metadata": {},
   "outputs": [],
   "source": [
    "clear opt\n",
    "opt.dir.raw = fullfile(demo_dir, 'inputs', 'raw');\n",
    "opt.dir.preproc = fullfile(demo_dir, 'outputs', 'derivatives', 'fmriprep');\n",
    "opt.pipeline.type = 'stats';\n",
    "opt = checkOptions(opt);\n",
    "\n",
    "opt.dir"
   ]
  },
  {
   "cell_type": "markdown",
   "id": "cf0dcb8d-a6c6-4d36-8b4d-b1a6fb628b74",
   "metadata": {},
   "source": [
    "### `opt.fwhm`: all smoothing information is now part of the option structure"
   ]
  },
  {
   "cell_type": "code",
   "execution_count": null,
   "id": "0418b619-e62d-4053-8f92-d734ee7832af",
   "metadata": {},
   "outputs": [],
   "source": [
    "opt.fwhm"
   ]
  },
  {
   "cell_type": "markdown",
   "id": "6f64a39d-5f68-4d2b-80a5-6ed65825f8e5",
   "metadata": {},
   "source": [
    "### `opt.verbosity` to silence non SPM output to the prompt"
   ]
  },
  {
   "cell_type": "code",
   "execution_count": null,
   "id": "53c9466e-430e-4143-b1d2-e9aa93c63b37",
   "metadata": {},
   "outputs": [],
   "source": [
    "demo_dir = fullfile(pwd, '..', 'demos', 'MoAE');\n",
    "\n",
    "clear opt\n",
    "\n",
    "opt.taskName = 'auditory';\n",
    "\n",
    "opt.dir.raw = fullfile(demo_dir, 'inputs', 'raw');\n",
    "opt.dir.derivatives = fullfile(demo_dir, 'outputs', 'derivatives');\n",
    "\n",
    "opt = checkOptions(opt);\n",
    "\n",
    "bidsCopyInputFolder(opt);"
   ]
  },
  {
   "cell_type": "code",
   "execution_count": null,
   "id": "fd0e3ee6-fbe9-4f56-becb-7e4e5bef2b26",
   "metadata": {},
   "outputs": [],
   "source": [
    "opt.verbosity = false;\n",
    "bidsCopyInputFolder(opt);"
   ]
  },
  {
   "cell_type": "markdown",
   "id": "fed42492",
   "metadata": {
    "tags": []
   },
   "source": [
    "### `opt.dryRun` for debugging\n",
    "\n",
    "Possibility to do a \"dry run\": prepare your workflows but don't run them with SPM."
   ]
  },
  {
   "cell_type": "code",
   "execution_count": null,
   "id": "9d43c16e",
   "metadata": {},
   "outputs": [],
   "source": [
    "opt.verbosity = true;\n",
    "opt.dryRun = true;\n",
    "bidsSpatialPrepro(opt);"
   ]
  },
  {
   "cell_type": "markdown",
   "id": "fd88f1e4",
   "metadata": {},
   "source": [
    "### `opt.segment`: to reuse previous segmentation or not\n",
    "In several places, workflows will be smarter and won't rerun the segmentation of the anatomical image if it has already been segemented.\n",
    "\n",
    "The segmentation can still be forced by setting the options appropriately."
   ]
  },
  {
   "cell_type": "code",
   "execution_count": null,
   "id": "2de2b6dc",
   "metadata": {},
   "outputs": [],
   "source": [
    "opt.segment.force = true;\n",
    "bidsSpatialPrepro(opt);"
   ]
  },
  {
   "cell_type": "markdown",
   "id": "2502cb47",
   "metadata": {},
   "source": [
    "### `opt.QA`: quality analysis options are now centralized in one place"
   ]
  },
  {
   "cell_type": "code",
   "execution_count": null,
   "id": "6b739c51",
   "metadata": {},
   "outputs": [],
   "source": [
    "opt.QA"
   ]
  }
 ],
 "metadata": {
  "kernelspec": {
   "display_name": "Octave",
   "language": "octave",
   "name": "octave"
  },
  "language_info": {
   "file_extension": ".m",
   "help_links": [
    {
     "text": "GNU Octave",
     "url": "https://www.gnu.org/software/octave/support.html"
    },
    {
     "text": "Octave Kernel",
     "url": "https://github.com/Calysto/octave_kernel"
    },
    {
     "text": "MetaKernel Magics",
     "url": "https://metakernel.readthedocs.io/en/latest/source/README.html"
    }
   ],
   "mimetype": "text/x-octave",
   "name": "octave",
   "version": "4.2.2"
  }
 },
 "nbformat": 4,
 "nbformat_minor": 5
}
