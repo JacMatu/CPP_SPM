{
 "cells": [
  {
   "cell_type": "markdown",
   "id": "13de9b92",
   "metadata": {},
   "source": [
    "# MoAE stats demo"
   ]
  },
  {
   "cell_type": "markdown",
   "id": "76d1d26b-50a2-499d-9349-12809e6069e8",
   "metadata": {
    "tags": []
   },
   "source": [
    "This is an interactive demo of how to use CPP SPM to run GLM analysis.\n",
    "\n",
    "<!-- If you are not familiar with jupyter notebook here is a link on how to set it up -- > LINK\n",
    "\n",
    "You can also use Binder to try this online -- > LINK -->\n",
    "\n",
    "### Graphic output\n",
    "\n",
    "When using on Binder some of the SPM graphic output will not be generated, as SPM takes this environment as being command line only. \n",
    "\n",
    "### Running the demo locally\n",
    "\n",
    "**If you are running this notebook locally AND if SPM is not the in Octave path**\n",
    "\n",
    "Run the following cell with the appropriate path for your computer.\n",
    "\n",
    "**Note:** SPM will need to be compiled to work for Octave for some parts of this demo to "
   ]
  },
  {
   "cell_type": "code",
   "execution_count": null,
   "id": "e0e9b1e0",
   "metadata": {
    "tags": []
   },
   "outputs": [],
   "source": [
    "% addpath('/home/remi/matlab/SPM/spm12');"
   ]
  },
  {
   "cell_type": "markdown",
   "id": "fdde68b2-6c8f-4a03-9564-f00443f3351d",
   "metadata": {},
   "source": [
    "Initialize CPP_SPM"
   ]
  },
  {
   "cell_type": "code",
   "execution_count": null,
   "id": "08ce31bb",
   "metadata": {
    "tags": []
   },
   "outputs": [],
   "source": [
    "run ../initCppSpm.m;"
   ]
  },
  {
   "cell_type": "code",
   "execution_count": null,
   "id": "15bb4258-2578-4a3e-bca4-57659fd152e0",
   "metadata": {},
   "outputs": [],
   "source": [
    "demo_dir = fullfile(pwd, '..', 'demos', 'MoAE');\n",
    "addpath(demo_dir)"
   ]
  },
  {
   "cell_type": "markdown",
   "id": "dc77174a-89f5-4410-bbad-8f4955a5cdd9",
   "metadata": {},
   "source": [
    "## Set options"
   ]
  },
  {
   "cell_type": "code",
   "execution_count": null,
   "id": "6c437e09-a074-4576-9807-b69a8c613520",
   "metadata": {},
   "outputs": [],
   "source": [
    "% task to analyze\n",
    "clear opt\n",
    "\n",
    "demo_dir = fullfile(pwd, '..', 'demos', 'MoAE');\n",
    "addpath(demo_dir)\n",
    "\n",
    "opt.taskName = 'auditory';\n",
    "\n",
    "opt.dir.raw = fullfile(demo_dir, 'inputs', 'raw');\n",
    "opt.dir.preproc = fullfile(demo_dir, 'outputs', 'derivatives', 'cpp_spm-preproc');\n",
    "\n",
    "% specify if we want to run the analysis in native or MNI space\n",
    "opt.space = {'MNI'};\n",
    "\n",
    "opt.fwhm.func = 6;"
   ]
  },
  {
   "cell_type": "code",
   "execution_count": null,
   "id": "ad1ae64f-722a-4fd9-9fc1-bc3fc5630f10",
   "metadata": {},
   "outputs": [],
   "source": [
    "opt.pipeline.type = 'preproc';\n",
    "bidsSmoothing(opt);"
   ]
  },
  {
   "cell_type": "markdown",
   "id": "6523f6a6-274d-452f-9227-925871fc2736",
   "metadata": {},
   "source": [
    "### Specify the result to compute using the BIDS statistical model"
   ]
  },
  {
   "cell_type": "code",
   "execution_count": null,
   "id": "6680af3c-668c-49d9-a46e-e013b76b96f9",
   "metadata": {},
   "outputs": [],
   "source": [
    "!cat ../demos/MoAE/models/model-MoAE_smdl.json"
   ]
  },
  {
   "cell_type": "code",
   "execution_count": null,
   "id": "f4cee770-c79c-4d2d-98ec-4be476e20f30",
   "metadata": {},
   "outputs": [],
   "source": [
    "opt.pipeline.type = 'stats';\n",
    "\n",
    "opt.model.file = fullfile(demo_dir, 'models', 'model-MoAE_smdl.json');\n",
    "\n",
    "opt.result.Steps(1) = returnDefaultResultsStructure();\n",
    "\n",
    "opt.result.Steps(1).Level = 'subject';\n",
    "\n",
    "opt.result.Steps(1).Contrasts(1).Name = 'listening';\n",
    "\n",
    "opt.result.Steps(1).Output.png = true();\n",
    "opt.result.Steps(1).Output.csv = true();\n",
    "opt.result.Steps(1).Output.thresh_spm = true();\n",
    "opt.result.Steps(1).Output.binary = true();\n",
    "opt.result.Steps(1).Output.NIDM_results = true();"
   ]
  },
  {
   "cell_type": "code",
   "execution_count": null,
   "id": "f36eeb8c-1654-4839-a0e6-83a95373ff54",
   "metadata": {},
   "outputs": [],
   "source": [
    "opt = checkOptions(opt);"
   ]
  },
  {
   "cell_type": "markdown",
   "id": "ffe66a14-df44-4409-8693-1e2676154c21",
   "metadata": {},
   "source": [
    "### Run GLM, compute contrasts and results"
   ]
  },
  {
   "cell_type": "code",
   "execution_count": 7,
   "id": "6f2ccc77-c8bf-4c1e-8933-aefa9ac03db5",
   "metadata": {
    "tags": []
   },
   "outputs": [
    {
     "name": "stdout",
     "output_type": "stream",
     "text": [
      "\n",
      "\n",
      "\n",
      "\n",
      "WORKFLOW: COMPUTING GLM RESULTS\n",
      "\n",
      "warning: Could not open a graphic window. Possible reasons:\n",
      " - running SPM from the matlab command line only,\n",
      " - running under octave.\n",
      "warning: called from\n",
      "    setGraphicWindow at line 40 column 5\n",
      "    setUpWorkflow at line 42 column 3\n",
      "    bidsResults at line 26 column 13\n",
      "error: structure has no member 'xCon'\n",
      "error: called from\n",
      "    setBatchSubjectLevelResults>getContrastNb at line 73 column 14\n",
      "    setBatchSubjectLevelResults at line 37 column 21\n",
      "    bidsResults at line 59 column 25\n"
     ]
    }
   ],
   "source": [
    "bidsFFX('specifyAndEstimate', opt);\n",
    "bidsFFX('contrasts', opt);\n",
    "bidsResults(opt);"
   ]
  }
 ],
 "metadata": {
  "kernelspec": {
   "display_name": "Octave",
   "language": "octave",
   "name": "octave"
  },
  "language_info": {
   "file_extension": ".m",
   "help_links": [
    {
     "text": "GNU Octave",
     "url": "https://www.gnu.org/software/octave/support.html"
    },
    {
     "text": "Octave Kernel",
     "url": "https://github.com/Calysto/octave_kernel"
    },
    {
     "text": "MetaKernel Magics",
     "url": "https://metakernel.readthedocs.io/en/latest/source/README.html"
    }
   ],
   "mimetype": "text/x-octave",
   "name": "octave",
   "version": "4.2.2"
  }
 },
 "nbformat": 4,
 "nbformat_minor": 5
}
